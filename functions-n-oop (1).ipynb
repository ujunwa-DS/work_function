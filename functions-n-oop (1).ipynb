{
 "cells": [
  {
   "cell_type": "markdown",
   "metadata": {
    "id": "lLxPEaU-gaeg"
   },
   "source": [
    "## 1. \n",
    "\n",
    "Write a program that reads words from the user until the user enters a blank line. \n",
    "\n",
    "After the user enters a blank line your program should display each word entered by the user exactly once. \n",
    "\n",
    "The words should be displayed in the same order that they were first entered. \n",
    "\n",
    "For example, if the user enters:\n",
    "\n",
    "- chioma\n",
    "- naylo\n",
    "- chioma\n",
    "- uju\n",
    "- naylo\n",
    "\n",
    "\n",
    "then your program should display:\n",
    "\n",
    "- chioma\n",
    "- naylo\n",
    "- uju"
   ]
  },
  {
   "cell_type": "code",
   "execution_count": 4,
   "metadata": {},
   "outputs": [
    {
     "name": "stdout",
     "output_type": "stream",
     "text": [
      "input your value: chioma\n",
      "input your value: naylo\n",
      "input your value: chioma\n",
      "input your value: uju\n",
      "input your value: naylo\n",
      "input your value: \n",
      "thank you for your patronage\n",
      "['chioma', 'naylo', 'uju', '']\n"
     ]
    }
   ],
   "source": [
    "value=[]\n",
    "#he=[]\n",
    "while value!=\"__\":\n",
    "    work=input(\"input your value: \")\n",
    "    value.append(work)\n",
    "    if work==\"\":\n",
    "        print(\"thank you for your patronage\")\n",
    "        break\n",
    "    #print(me) \n",
    "hel=[]\n",
    "for i in value:\n",
    "    if i not in hel:\n",
    "        hel.append(i)\n",
    "print(hel)"
   ]
  },
  {
   "cell_type": "markdown",
   "metadata": {
    "id": "WQRa9gICgdpp"
   },
   "source": [
    "## 2. \n",
    "An online vendor provides express shipping for many of its items at a rate of $ 10.95 for the first item in an order, and $2.95 for each subsequent item in the same order.\n",
    "\n",
    "Write a function that takes the number of items in the order as its only parameter.\n",
    "\n",
    "Return the shipping charge for the order as the function’s result. \n",
    "\n",
    "Include a main program that reads the number of items purchased from the user and displays the\n",
    "shipping charge."
   ]
  },
  {
   "cell_type": "code",
   "execution_count": 16,
   "metadata": {},
   "outputs": [
    {
     "name": "stdout",
     "output_type": "stream",
     "text": [
      "hou many items do you have: 5\n",
      "22.75\n"
     ]
    }
   ],
   "source": [
    "def amount(no_of_items ):\n",
    "    times= (no_of_items-1)*2.95 +10.95\n",
    "    return times\n",
    "work=int(input(\"how many items do you have: \"))\n",
    "print (amount(work))"
   ]
  },
  {
   "cell_type": "markdown",
   "metadata": {
    "id": "PruN-DqPghnJ"
   },
   "source": [
    "## 3. \n",
    "\n",
    "What concept is referred to as self-created data type?"
   ]
  },
  {
   "cell_type": "code",
   "execution_count": null,
   "metadata": {},
   "outputs": [],
   "source": [
    "#These are data type that is already known by the system. Declaring these data type is done by referencing it to an already inbuilt defined function. "
   ]
  },
  {
   "cell_type": "markdown",
   "metadata": {
    "id": "QetToisQgmyS"
   },
   "source": [
    "## 4. \n",
    "\n",
    "Look at the code snippet attached, what is the reason for the error? Re-write the  code to give the right output."
   ]
  },
  {
   "cell_type": "code",
   "execution_count": null,
   "metadata": {
    "id": "ezKoBNfNoUEJ"
   },
   "outputs": [],
   "source": [
    " class country:\n",
    "  def __init__(self, location, population, landmass, government):\n",
    "    self.location = location\n",
    "    self.population = population\n",
    "    self.landmass = landmass\n",
    "    self.government = government\n",
    " \n",
    "  \n",
    "\n",
    "  def info():\n",
    "      print(\"Zamunda is located at  \" + self.location + \" with total population of  \" + self.population + \" and landmass of \" + landmass + \" with \" + government + \" as type of government \")\n",
    "\n",
    "Z = country(\"Wakanda\", 500,000, 200,800, \"monarchy\")\n",
    "\n",
    "\n",
    "print(Z)"
   ]
  },
  {
   "cell_type": "code",
   "execution_count": null,
   "metadata": {},
   "outputs": [],
   "source": [
    "##MISTAKES\n",
    "\n",
    "#1. Z had 7 positions which is more than the attribute of  country. \n",
    "#2. The def info was not needed as it served no purpose\n",
    "#3. concatination made in line 11 is wrong as you called only the self and not the attribute in which it should take which is the Z attribute. \n",
    "#4. the Z should be defined before concatinating it with the print\n",
    "#5. there was allignment issue with the print statement and the print statement \n",
    "#6. printing Z is an error as it serves no purpose"
   ]
  },
  {
   "cell_type": "code",
   "execution_count": null,
   "metadata": {},
   "outputs": [],
   "source": [
    " class country:\n",
    "  def __init__(self, location, population, landmass, government):\n",
    "    self.location = location\n",
    "    self.population = population\n",
    "    self.landmass = landmass\n",
    "    self.government = government\n",
    " \n",
    "  \n",
    "Z = country(\"Wakanda\", \"500,000\", \"200,800\", \"monarchy\")\n",
    "\n",
    "print(\"Zamunda is located at  \" + Z.location + \" with total population of  \" + Z.population + \" and landmass of \" + Z.landmass + \" with \" +Z. government + \" as type of government \")\n",
    "\n"
   ]
  },
  {
   "cell_type": "code",
   "execution_count": null,
   "metadata": {},
   "outputs": [],
   "source": [
    " class country:\n",
    "    def __init__(self, location, population, landmass, government):\n",
    "        self.location = location\n",
    "        self.population = population\n",
    "        self.landmass = landmass\n",
    "        self.government = government \n",
    "\n",
    "Z = country(\"Wakanda\", \"500,000\", \"200,800\", \"monarchy\")\n",
    "print(\"Zamunda is located at {}  with total population of  {} and landmass of {} with {} as type of government \". format(Z.location,Z.population,Z.landmass,Z.government))\n"
   ]
  },
  {
   "cell_type": "markdown",
   "metadata": {
    "id": "AKZ5l_hQgr_K"
   },
   "source": [
    "## 5. \n",
    "\n",
    "Create an animal object with attributes, print out a sentence describing the animal with your attributes."
   ]
  },
  {
   "cell_type": "code",
   "execution_count": null,
   "metadata": {},
   "outputs": [],
   "source": [
    "class dog:\n",
    "    def __init__(self, height, weight,mood):\n",
    "        self.height=height\n",
    "        self.weight=weight\n",
    "        self.mood=mood\n",
    "        \n",
    "Ole= dog(\"10.2ft\", \"31.4\", \"annoying\")\n",
    "print(\"Ole is my dog that is {}, big height of {} in vain,good weight of {} wasted\". format(Ole.mood, Ole.height, Ole.weight))"
   ]
  },
  {
   "cell_type": "markdown",
   "metadata": {},
   "source": [
    "## 6\n",
    "\n",
    "Wrtie a function that takes in two parametrs (two strings).\n",
    "\n",
    "The first parameter should be a word and second should be a letter. \n",
    "\n",
    "The function returns the number of times that letter appears in the word. \n",
    "\n",
    "The function should be case insensitive (does not matter if the input is lowercase or uppercase). \n",
    "\n",
    "If the letter is not found in the word, the function should return 0."
   ]
  },
  {
   "cell_type": "code",
   "execution_count": null,
   "metadata": {},
   "outputs": [],
   "source": [
    "def work(woman,m):\n",
    "    yeast=woman.count(m)\n",
    "    return yeast\n",
    "a=input(\"what is your favorite letter: \")\n",
    "b=input(\"what is your favorite letter: \")\n",
    "print(work(a,b))"
   ]
  },
  {
   "cell_type": "markdown",
   "metadata": {},
   "source": [
    "## 7\n",
    "\n",
    "When analysing data collected as part of an experiment it may be desirable to remove the most extreme values before performing other calculations. \n",
    "\n",
    "Write a function that takes a list of values and an non-negative integer, n, as its parameters.\n",
    "\n",
    "The function should create a new copy of the list with the n largest elements and the n smallest elements removed. \n",
    "\n",
    "Then it should return the new copy of the list as the function’s only result. \n",
    "\n",
    "The order of the elements in the returned list does not have to match the order of the elements in the original list.\n",
    "\n",
    "Write a main program that demonstrates your function. \n",
    "\n",
    "It should read a list of numbers from the user and remove the two largest and two smallest values from it by calling the function described previously. \n",
    "\n",
    "Display the list with the outliers removed, followed by the original list. \n",
    "\n",
    "Your program should generate an appropriate error message if the user enters less than 4 values."
   ]
  },
  {
   "cell_type": "code",
   "execution_count": 20,
   "metadata": {},
   "outputs": [
    {
     "name": "stdout",
     "output_type": "stream",
     "text": [
      "None\n"
     ]
    }
   ],
   "source": [
    "def numbers (n):\n",
    "    for i in n:\n",
    "        q=[]\n",
    "        if i==max(n) and min(n):\n",
    "            del(i)\n",
    "        else:\n",
    "            return q.append(i)\n",
    "print(numbers([2,3,4,1]))"
   ]
  },
  {
   "cell_type": "markdown",
   "metadata": {},
   "source": []
  }
 ],
 "metadata": {
  "colab": {
   "collapsed_sections": [],
   "name": "Exercise.ipynb",
   "provenance": []
  },
  "kernelspec": {
   "display_name": "Python 3",
   "language": "python",
   "name": "python3"
  },
  "language_info": {
   "codemirror_mode": {
    "name": "ipython",
    "version": 3
   },
   "file_extension": ".py",
   "mimetype": "text/x-python",
   "name": "python",
   "nbconvert_exporter": "python",
   "pygments_lexer": "ipython3",
   "version": "3.8.8"
  }
 },
 "nbformat": 4,
 "nbformat_minor": 1
}
